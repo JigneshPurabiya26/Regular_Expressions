{
  "nbformat": 4,
  "nbformat_minor": 0,
  "metadata": {
    "colab": {
      "name": "RE-task4-english.ipynb",
      "provenance": [],
      "collapsed_sections": [],
      "authorship_tag": "ABX9TyPLmHsa5kZdbSPij/khAyQj",
      "include_colab_link": true
    },
    "kernelspec": {
      "name": "python3",
      "display_name": "Python 3"
    },
    "language_info": {
      "name": "python"
    }
  },
  "cells": [
    {
      "cell_type": "markdown",
      "metadata": {
        "id": "view-in-github",
        "colab_type": "text"
      },
      "source": [
        "<a href=\"https://colab.research.google.com/github/JigneshPurabiya26/Regular_Expressions/blob/main/RE_task4_english.ipynb\" target=\"_parent\"><img src=\"https://colab.research.google.com/assets/colab-badge.svg\" alt=\"Open In Colab\"/></a>"
      ]
    },
    {
      "cell_type": "markdown",
      "source": [
        "##TASK 4 : user input\n",
        "**Time format validation**"
      ],
      "metadata": {
        "id": "27y4GHNUd_zW"
      }
    },
    {
      "cell_type": "code",
      "execution_count": null,
      "metadata": {
        "id": "yQWJKUicd3Li"
      },
      "outputs": [],
      "source": [
        "inputs = ['18:29','23:55','123','ad:ef','18:299','98:98']"
      ]
    },
    {
      "cell_type": "code",
      "source": [
        "input1 = '12:48'"
      ],
      "metadata": {
        "id": "bZMwnpy8enmu"
      },
      "execution_count": null,
      "outputs": []
    },
    {
      "cell_type": "code",
      "source": [
        "import re\n",
        "print(re.fullmatch('[0-9]{2}:[0-9]{2}',input1))"
      ],
      "metadata": {
        "colab": {
          "base_uri": "https://localhost:8080/"
        },
        "id": "jEORB_Tret2e",
        "outputId": "ea492483-550b-486f-853d-8d5731c758a8"
      },
      "execution_count": null,
      "outputs": [
        {
          "output_type": "stream",
          "name": "stdout",
          "text": [
            "<re.Match object; span=(0, 5), match='12:48'>\n"
          ]
        }
      ]
    },
    {
      "cell_type": "code",
      "source": [
        "[re.fullmatch('[0-9]{2}:[0-9]{2}',x) for x in inputs]"
      ],
      "metadata": {
        "colab": {
          "base_uri": "https://localhost:8080/"
        },
        "id": "k9dcC-fGfCUW",
        "outputId": "f8e486c6-0cef-44b7-f8d7-956599ddf1c6"
      },
      "execution_count": null,
      "outputs": [
        {
          "output_type": "execute_result",
          "data": {
            "text/plain": [
              "[<re.Match object; span=(0, 5), match='18:29'>,\n",
              " <re.Match object; span=(0, 5), match='23:55'>,\n",
              " None,\n",
              " None,\n",
              " None,\n",
              " <re.Match object; span=(0, 5), match='98:98'>]"
            ]
          },
          "metadata": {},
          "execution_count": 4
        }
      ]
    },
    {
      "cell_type": "code",
      "source": [
        "regex = '([01][0-9]|2[0-3]):([0-5][0-9])'"
      ],
      "metadata": {
        "id": "0z-L471VfYuv"
      },
      "execution_count": null,
      "outputs": []
    },
    {
      "cell_type": "code",
      "source": [
        "[re.fullmatch(regex,x) for x in inputs]"
      ],
      "metadata": {
        "colab": {
          "base_uri": "https://localhost:8080/"
        },
        "id": "g4EEeFJ-gWBN",
        "outputId": "9ba00952-8dd5-457b-a3c9-c635e961f9ce"
      },
      "execution_count": null,
      "outputs": [
        {
          "output_type": "execute_result",
          "data": {
            "text/plain": [
              "[<re.Match object; span=(0, 5), match='18:29'>,\n",
              " <re.Match object; span=(0, 5), match='23:55'>,\n",
              " None,\n",
              " None,\n",
              " None,\n",
              " None]"
            ]
          },
          "metadata": {},
          "execution_count": 6
        }
      ]
    },
    {
      "cell_type": "markdown",
      "source": [
        "**Email Validation**"
      ],
      "metadata": {
        "id": "NQNAae_-gnDH"
      }
    },
    {
      "cell_type": "code",
      "source": [
        "input2 =['jigne$h1purabiya@yahoo.com','jignesh26purabiya@gmail.coma','jignes_hpurabiya26@outlook.com']"
      ],
      "metadata": {
        "id": "eFM34VD6gcTV"
      },
      "execution_count": null,
      "outputs": []
    },
    {
      "cell_type": "code",
      "source": [
        "regex2 = '^(\\w|\\.|\\_|\\-)+[@]\\w+[.]\\w{2,3}$'"
      ],
      "metadata": {
        "id": "PTy5sO1phIf0"
      },
      "execution_count": null,
      "outputs": []
    },
    {
      "cell_type": "code",
      "source": [
        "[re.fullmatch(regex2,x) for x in input2]"
      ],
      "metadata": {
        "colab": {
          "base_uri": "https://localhost:8080/"
        },
        "id": "vZXC9nzkiR8E",
        "outputId": "c3d78413-4d87-440c-b0d2-dcbacec6966b"
      },
      "execution_count": null,
      "outputs": [
        {
          "output_type": "execute_result",
          "data": {
            "text/plain": [
              "[None,\n",
              " None,\n",
              " <re.Match object; span=(0, 30), match='jignes_hpurabiya26@outlook.com'>]"
            ]
          },
          "metadata": {},
          "execution_count": 20
        }
      ]
    },
    {
      "cell_type": "markdown",
      "source": [
        "**Username Validation**"
      ],
      "metadata": {
        "id": "gTVaA4B8jJyO"
      }
    },
    {
      "cell_type": "code",
      "source": [
        "input3 = ['Babu_12','Sonu','Soppy.p_23']"
      ],
      "metadata": {
        "id": "p1n5JxlhiqUm"
      },
      "execution_count": null,
      "outputs": []
    },
    {
      "cell_type": "code",
      "source": [
        "regex3 = '^[a-zA-Z_.]+$'"
      ],
      "metadata": {
        "id": "KUi19mCbjcvL"
      },
      "execution_count": null,
      "outputs": []
    },
    {
      "cell_type": "code",
      "source": [
        "[re.fullmatch(regex3,x) for x in input3]"
      ],
      "metadata": {
        "colab": {
          "base_uri": "https://localhost:8080/"
        },
        "id": "cyrW4fNkjwzj",
        "outputId": "3106f568-7ac9-458d-af95-9b26222e8645"
      },
      "execution_count": null,
      "outputs": [
        {
          "output_type": "execute_result",
          "data": {
            "text/plain": [
              "[None, <re.Match object; span=(0, 4), match='Sonu'>, None]"
            ]
          },
          "metadata": {},
          "execution_count": 23
        }
      ]
    },
    {
      "cell_type": "code",
      "source": [
        ""
      ],
      "metadata": {
        "id": "qRk1-oO1j1mY"
      },
      "execution_count": null,
      "outputs": []
    }
  ]
}