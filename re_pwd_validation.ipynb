{
  "nbformat": 4,
  "nbformat_minor": 0,
  "metadata": {
    "colab": {
      "name": "re-pwd-validation.ipynb",
      "provenance": [],
      "authorship_tag": "ABX9TyPgQ+k0f5OJGtENGL+7Bb/w",
      "include_colab_link": true
    },
    "kernelspec": {
      "name": "python3",
      "display_name": "Python 3"
    },
    "language_info": {
      "name": "python"
    }
  },
  "cells": [
    {
      "cell_type": "markdown",
      "metadata": {
        "id": "view-in-github",
        "colab_type": "text"
      },
      "source": [
        "<a href=\"https://colab.research.google.com/github/JigneshPurabiya26/Regular_Expressions/blob/main/re_pwd_validation.ipynb\" target=\"_parent\"><img src=\"https://colab.research.google.com/assets/colab-badge.svg\" alt=\"Open In Colab\"/></a>"
      ]
    },
    {
      "cell_type": "markdown",
      "source": [
        "Password Validation in Python (with REGEX) "
      ],
      "metadata": {
        "id": "EBKHqWcFVtHm"
      }
    },
    {
      "cell_type": "markdown",
      "source": [
        "We need to write regex that will validate a password to make sure it meets the following criteria:\n",
        "\n",
        "*   At least 8 characters\n",
        "*   uppercase letters : A-Z\n",
        "*   lowercase letters : a-z\n",
        "*   numbers 0-9\n",
        "*   any of the special characters: @#$%^&+=\n",
        "\n",
        "Letters/numbers/special characters are **optional**\n",
        "\n"
      ],
      "metadata": {
        "id": "lQcjAAugWStn"
      }
    },
    {
      "cell_type": "code",
      "source": [
        "#{8,15}#this means that we need atleast 8 hcaracters and maximum of 15 characters\n",
        "#{8,}#this means that we need at least 8 characters and we can have any number of max characters\n",
        "regex = '[A-Za-z0-9@#$%^&+=]{8,}'"
      ],
      "metadata": {
        "id": "Mgar0tLKXy-y"
      },
      "execution_count": null,
      "outputs": []
    },
    {
      "cell_type": "code",
      "source": [
        "import re\n",
        "pwd = input('enter a password : ')"
      ],
      "metadata": {
        "colab": {
          "base_uri": "https://localhost:8080/"
        },
        "id": "9n4JKbm7ZERm",
        "outputId": "343acc4d-cd9b-44ba-d8d5-27e4cc029e04"
      },
      "execution_count": null,
      "outputs": [
        {
          "name": "stdout",
          "output_type": "stream",
          "text": [
            "enter a password : Jignesh1234\n"
          ]
        }
      ]
    },
    {
      "cell_type": "code",
      "source": [
        "pwd"
      ],
      "metadata": {
        "colab": {
          "base_uri": "https://localhost:8080/",
          "height": 35
        },
        "id": "39QO5AJbZn1k",
        "outputId": "5e020337-73b4-4db4-b886-35a7f39de470"
      },
      "execution_count": null,
      "outputs": [
        {
          "output_type": "execute_result",
          "data": {
            "text/plain": [
              "'Jignesh1234'"
            ],
            "application/vnd.google.colaboratory.intrinsic+json": {
              "type": "string"
            }
          },
          "metadata": {},
          "execution_count": 4
        }
      ]
    },
    {
      "cell_type": "code",
      "source": [
        "if re.fullmatch(regex , pwd):\n",
        "  print('The password is correct')\n",
        "else:\n",
        "    print('The password is incorrect')"
      ],
      "metadata": {
        "colab": {
          "base_uri": "https://localhost:8080/"
        },
        "id": "GKdZHyOkZxz0",
        "outputId": "b1018b6d-6a9d-46da-f956-4a73c10eaeda"
      },
      "execution_count": null,
      "outputs": [
        {
          "output_type": "stream",
          "name": "stdout",
          "text": [
            "The password is correct\n"
          ]
        }
      ]
    },
    {
      "cell_type": "markdown",
      "source": [
        "We need to write regex that will validate a password to make sure it meets the following criteria:\n",
        "\n",
        "*   At least six characters long\n",
        "*   contains a lowercase letter\n",
        "*   contains an uppercase letter\n",
        "*   contains a number \n",
        "\n",
        "Valid passwords will only be alphanumeric characters.\n",
        "\n"
      ],
      "metadata": {
        "id": "U5qCmuefXOy-"
      }
    },
    {
      "cell_type": "code",
      "execution_count": null,
      "metadata": {
        "id": "E_QaKYfmVetA"
      },
      "outputs": [],
      "source": [
        "regex1 = '(?=.*[A-Z])(?=.*[a-z])(?=.*[0-9]{6,})'#this is an assertion which is used to check if the string sstisfies the at least conditions"
      ]
    },
    {
      "cell_type": "code",
      "source": [
        "if re.fullmatch(regex1, pwd):\n",
        "  print('match,yay')\n",
        "else:\n",
        "  print('sorry no match')  "
      ],
      "metadata": {
        "colab": {
          "base_uri": "https://localhost:8080/"
        },
        "id": "OCogSwTkcedQ",
        "outputId": "fb7c7b56-5863-4a90-e7af-a60da96a87a3"
      },
      "execution_count": null,
      "outputs": [
        {
          "output_type": "stream",
          "name": "stdout",
          "text": [
            "sorry no match\n"
          ]
        }
      ]
    },
    {
      "cell_type": "code",
      "source": [
        ""
      ],
      "metadata": {
        "id": "PiVLFg5OdETO"
      },
      "execution_count": null,
      "outputs": []
    }
  ]
}