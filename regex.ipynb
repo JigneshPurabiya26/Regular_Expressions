{
  "nbformat": 4,
  "nbformat_minor": 0,
  "metadata": {
    "colab": {
      "name": "regex.ipynb",
      "provenance": [],
      "collapsed_sections": [],
      "authorship_tag": "ABX9TyMrBI0TO4t23sh6JpvJXU0V",
      "include_colab_link": true
    },
    "kernelspec": {
      "name": "python3",
      "display_name": "Python 3"
    },
    "language_info": {
      "name": "python"
    }
  },
  "cells": [
    {
      "cell_type": "markdown",
      "metadata": {
        "id": "view-in-github",
        "colab_type": "text"
      },
      "source": [
        "<a href=\"https://colab.research.google.com/github/JigneshPurabiya26/Regular_Expressions/blob/main/regex.ipynb\" target=\"_parent\"><img src=\"https://colab.research.google.com/assets/colab-badge.svg\" alt=\"Open In Colab\"/></a>"
      ]
    },
    {
      "cell_type": "markdown",
      "source": [
        "This is the first task of this project to learn Regular Expression in Python"
      ],
      "metadata": {
        "id": "QblSFa7CJu-k"
      }
    },
    {
      "cell_type": "code",
      "execution_count": null,
      "metadata": {
        "id": "-CDk12RhJmQv"
      },
      "outputs": [],
      "source": [
        "import re"
      ]
    },
    {
      "cell_type": "markdown",
      "source": [
        "##Metacharacters\n",
        "^ $"
      ],
      "metadata": {
        "id": "B46VmfypKZoJ"
      }
    },
    {
      "cell_type": "code",
      "source": [
        "#the caret sign is used to search a pattern at the start of the string and the dollar sign at the end of the string\n",
        "st = 'dogs are adorabla'"
      ],
      "metadata": {
        "id": "vE9Njk1aKT87"
      },
      "execution_count": null,
      "outputs": []
    },
    {
      "cell_type": "code",
      "source": [
        "p = '^dogs' #here we have created a pattern\n",
        "#a pattern is always between quotes \n",
        "#this pattern is used to search for the word dog in this string using the caret sign"
      ],
      "metadata": {
        "id": "7AmyFZwuLPmz"
      },
      "execution_count": null,
      "outputs": []
    },
    {
      "cell_type": "code",
      "source": [
        "print(re.search(p, st)) #in this line of code we searched for the pattern p in the string st"
      ],
      "metadata": {
        "colab": {
          "base_uri": "https://localhost:8080/"
        },
        "id": "QwjJZOFtL4Ya",
        "outputId": "8c8ab17c-5270-4c7c-cad6-d0da08355493"
      },
      "execution_count": null,
      "outputs": [
        {
          "output_type": "stream",
          "name": "stdout",
          "text": [
            "<re.Match object; span=(0, 4), match='dogs'>\n"
          ]
        }
      ]
    },
    {
      "cell_type": "code",
      "source": [
        "p2 = 'dogs$' \n",
        "#this line of code is used to search for dogs at the end of the string"
      ],
      "metadata": {
        "id": "h4x3iR30MDxy"
      },
      "execution_count": null,
      "outputs": []
    },
    {
      "cell_type": "code",
      "source": [
        "print(re.search(p2,st))"
      ],
      "metadata": {
        "colab": {
          "base_uri": "https://localhost:8080/"
        },
        "id": "Pf1mmyWoM2rM",
        "outputId": "24889046-defc-4411-b502-30e7208b9f07"
      },
      "execution_count": null,
      "outputs": [
        {
          "output_type": "stream",
          "name": "stdout",
          "text": [
            "None\n"
          ]
        }
      ]
    },
    {
      "cell_type": "markdown",
      "source": [
        "##Quantifiers\n",
        "? + *"
      ],
      "metadata": {
        "id": "YYEJt5PYM-z_"
      }
    },
    {
      "cell_type": "code",
      "source": [
        "# ? is 0 or 1 occurence of the preceeding element\n",
        "st1= 'color'\n",
        "st2 = 'colour'"
      ],
      "metadata": {
        "id": "ke2NmmglM7Wh"
      },
      "execution_count": null,
      "outputs": []
    },
    {
      "cell_type": "code",
      "source": [
        " re.search('colou?r',st1)"
      ],
      "metadata": {
        "colab": {
          "base_uri": "https://localhost:8080/"
        },
        "id": "vza498IWN_6z",
        "outputId": "b330d3cf-c475-4bef-9037-53f1c0e7964c"
      },
      "execution_count": null,
      "outputs": [
        {
          "output_type": "execute_result",
          "data": {
            "text/plain": [
              "<re.Match object; span=(0, 5), match='color'>"
            ]
          },
          "metadata": {},
          "execution_count": 15
        }
      ]
    },
    {
      "cell_type": "code",
      "source": [
        " re.search('colou?r',st2) #the above and this line of code that the character just before the question mark is optional \n",
        " #i.e if character before ? is not there it will still find a match  "
      ],
      "metadata": {
        "colab": {
          "base_uri": "https://localhost:8080/"
        },
        "id": "BMCrChclORM4",
        "outputId": "7f30b3b9-5657-4556-dbb7-5c117920c6db"
      },
      "execution_count": null,
      "outputs": [
        {
          "output_type": "execute_result",
          "data": {
            "text/plain": [
              "<re.Match object; span=(0, 6), match='colour'>"
            ]
          },
          "metadata": {},
          "execution_count": 14
        }
      ]
    },
    {
      "cell_type": "code",
      "source": [
        "# + is 1 or more occurence fo the preceeding element\n",
        "st3 = 'ac'\n",
        "st4 = 'abc'\n",
        "st5 = 'abbc'"
      ],
      "metadata": {
        "id": "YlcnKqNZOa1w"
      },
      "execution_count": null,
      "outputs": []
    },
    {
      "cell_type": "code",
      "source": [
        "re.search('ab+c',st5)"
      ],
      "metadata": {
        "colab": {
          "base_uri": "https://localhost:8080/"
        },
        "id": "2Fd-CXpCP08K",
        "outputId": "bd9a2a62-a9e6-4db7-c6aa-d1b1d0b618ad"
      },
      "execution_count": null,
      "outputs": [
        {
          "output_type": "execute_result",
          "data": {
            "text/plain": [
              "<re.Match object; span=(0, 4), match='abbc'>"
            ]
          },
          "metadata": {},
          "execution_count": 19
        }
      ]
    },
    {
      "cell_type": "markdown",
      "source": [
        "##Metacharacters \n",
        "- ."
      ],
      "metadata": {
        "id": "v2PNTiyeQEkZ"
      }
    },
    {
      "cell_type": "code",
      "source": [
        "# - is used for a range\n",
        "# . is used forany single character"
      ],
      "metadata": {
        "id": "j9ze6rbFP-tw"
      },
      "execution_count": null,
      "outputs": []
    },
    {
      "cell_type": "markdown",
      "source": [
        "##Sets \n",
        "[^a-n ]"
      ],
      "metadata": {
        "id": "YAb_VVGRQ2z9"
      }
    },
    {
      "cell_type": "code",
      "source": [
        "#the above pattern is used to search for all the characters besides the one between a and n \n",
        "#[01234] this will search only for the numbers present in this list\n",
        "#[0-9] this will search for all the numbers between 0-0\n",
        "#[a-Z] this will search for all the upper and lower characters between a and Z"
      ],
      "metadata": {
        "id": "U11VOBewQ12x"
      },
      "execution_count": null,
      "outputs": []
    },
    {
      "cell_type": "code",
      "source": [
        "str = 'dogs are adorable'\n",
        "re.search('[a-d]',str)"
      ],
      "metadata": {
        "colab": {
          "base_uri": "https://localhost:8080/"
        },
        "id": "jLd5rhpLSeff",
        "outputId": "3044e2c0-c3b7-4eaf-b654-dccd8e55b753"
      },
      "execution_count": null,
      "outputs": [
        {
          "output_type": "execute_result",
          "data": {
            "text/plain": [
              "<re.Match object; span=(0, 1), match='d'>"
            ]
          },
          "metadata": {},
          "execution_count": 22
        }
      ]
    },
    {
      "cell_type": "code",
      "source": [
        "#\n",
        "re.findall('[a-d]','dogs are adorable')"
      ],
      "metadata": {
        "colab": {
          "base_uri": "https://localhost:8080/"
        },
        "id": "eVTBjS3KS0ML",
        "outputId": "72c92e75-43f0-4e66-deec-ca11d352a354"
      },
      "execution_count": null,
      "outputs": [
        {
          "output_type": "execute_result",
          "data": {
            "text/plain": [
              "['d', 'a', 'a', 'd', 'a', 'b']"
            ]
          },
          "metadata": {},
          "execution_count": 23
        }
      ]
    },
    {
      "cell_type": "markdown",
      "source": [
        "##Special sequences\n",
        "\n",
        "\\d \\w"
      ],
      "metadata": {
        "id": "XQn7-F4ETLRg"
      }
    },
    {
      "cell_type": "code",
      "source": [
        "#\\d is used to search for any digits between [0-9]\n",
        "#\\w is used to searh for any character between a-z any number or any underscore character\n",
        "#\\w = [0-9,a-z,_]"
      ],
      "metadata": {
        "id": "IJkPbnivTIgb"
      },
      "execution_count": null,
      "outputs": []
    },
    {
      "cell_type": "code",
      "source": [
        "re.search('\\d', 'my password is pass1234')"
      ],
      "metadata": {
        "colab": {
          "base_uri": "https://localhost:8080/"
        },
        "id": "NKCaQVsQUfYs",
        "outputId": "89612497-da31-4808-b0ed-9bf25078b048"
      },
      "execution_count": null,
      "outputs": [
        {
          "output_type": "execute_result",
          "data": {
            "text/plain": [
              "<re.Match object; span=(19, 20), match='1'>"
            ]
          },
          "metadata": {},
          "execution_count": 25
        }
      ]
    },
    {
      "cell_type": "code",
      "source": [
        "re.findall('\\d','my password is pass1234')"
      ],
      "metadata": {
        "colab": {
          "base_uri": "https://localhost:8080/"
        },
        "id": "gyBRtSfcUuwy",
        "outputId": "f37a25ea-c316-47f3-8818-0d5385ad52bd"
      },
      "execution_count": null,
      "outputs": [
        {
          "output_type": "execute_result",
          "data": {
            "text/plain": [
              "['1', '2', '3', '4']"
            ]
          },
          "metadata": {},
          "execution_count": 26
        }
      ]
    },
    {
      "cell_type": "code",
      "source": [
        "re.findall('\\w','My password is pass_1234')"
      ],
      "metadata": {
        "colab": {
          "base_uri": "https://localhost:8080/"
        },
        "id": "P9UImsp_U6A6",
        "outputId": "e7e369cb-c6d6-4475-a107-1b8adb981729"
      },
      "execution_count": null,
      "outputs": [
        {
          "output_type": "execute_result",
          "data": {
            "text/plain": [
              "['M',\n",
              " 'y',\n",
              " 'p',\n",
              " 'a',\n",
              " 's',\n",
              " 's',\n",
              " 'w',\n",
              " 'o',\n",
              " 'r',\n",
              " 'd',\n",
              " 'i',\n",
              " 's',\n",
              " 'p',\n",
              " 'a',\n",
              " 's',\n",
              " 's',\n",
              " '_',\n",
              " '1',\n",
              " '2',\n",
              " '3',\n",
              " '4']"
            ]
          },
          "metadata": {},
          "execution_count": 28
        }
      ]
    }
  ]
}